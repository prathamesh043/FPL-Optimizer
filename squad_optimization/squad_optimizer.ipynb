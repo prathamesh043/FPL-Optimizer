{
 "cells": [
  {
   "cell_type": "code",
   "execution_count": 1,
   "metadata": {},
   "outputs": [],
   "source": [
    "import requests\n",
    "import pandas as pd\n",
    "import numpy as np\n",
    "import itertools\n",
    "import copy\n",
    "\n",
    "import warnings\n",
    "warnings.filterwarnings('ignore')\n",
    "\n",
    "from IPython.core.interactiveshell import InteractiveShell\n",
    "InteractiveShell.ast_node_interactivity = \"all\""
   ]
  },
  {
   "cell_type": "code",
   "execution_count": 2,
   "metadata": {},
   "outputs": [
    {
     "data": {
      "text/plain": [
       "dict_keys(['events', 'game_settings', 'phases', 'teams', 'total_players', 'elements', 'element_stats', 'element_types'])"
      ]
     },
     "execution_count": 2,
     "metadata": {},
     "output_type": "execute_result"
    }
   ],
   "source": [
    "# FPL API URL\n",
    "url = 'https://fantasy.premierleague.com/api/bootstrap-static/'\n",
    "response = requests.get(url)\n",
    "json = response.json()\n",
    "\n",
    "# JSON keys\n",
    "json.keys()"
   ]
  },
  {
   "cell_type": "code",
   "execution_count": 3,
   "metadata": {},
   "outputs": [],
   "source": [
    "# storing json outputs as dataframes\n",
    "\n",
    "elements_df = pd.DataFrame(json['elements'])\n",
    "elements_types_df = pd.DataFrame(json['element_types'])\n",
    "teams_df = pd.DataFrame(json['teams'])"
   ]
  },
  {
   "cell_type": "code",
   "execution_count": 4,
   "metadata": {},
   "outputs": [],
   "source": [
    "# Pulling in player position into slim_elements_df\n",
    "\n",
    "elements_df['position'] = elements_df.element_type.map(elements_types_df.set_index('id').singular_name)\n",
    "elements_df['team_name'] = elements_df.team.map(teams_df.set_index('id').name)"
   ]
  },
  {
   "cell_type": "code",
   "execution_count": 5,
   "metadata": {},
   "outputs": [],
   "source": [
    "# Filtering out only the necessary columns\n",
    "\n",
    "slim_elements_df = elements_df[['first_name', 'second_name','team_name','position','news','selected_by_percent','in_dreamteam',\n",
    "                                'now_cost','form','points_per_game','minutes','goals_scored','assists','clean_sheets',\n",
    "                                'goals_conceded','clean_sheets','goals_conceded','yellow_cards','red_cards','saves','bonus',\n",
    "                                'transfers_in','value_season','total_points','influence','creativity','threat','ict_index']]\n"
   ]
  },
  {
   "cell_type": "code",
   "execution_count": 6,
   "metadata": {},
   "outputs": [],
   "source": [
    "# convering columns into numeric data type\n",
    "\n",
    "slim_elements_df['selected_by_percent'] = pd.to_numeric(slim_elements_df['selected_by_percent'])\n",
    "slim_elements_df['form'] = pd.to_numeric(slim_elements_df['form'])\n",
    "slim_elements_df['points_per_game'] = pd.to_numeric(slim_elements_df['points_per_game'])\n",
    "slim_elements_df['value_season'] = pd.to_numeric(slim_elements_df['value_season'])\n",
    "slim_elements_df['influence'] = pd.to_numeric(slim_elements_df['influence'])\n",
    "slim_elements_df['creativity'] = pd.to_numeric(slim_elements_df['creativity'])\n",
    "slim_elements_df['threat'] = pd.to_numeric(slim_elements_df['threat'])\n",
    "slim_elements_df['ict_index'] = pd.to_numeric(slim_elements_df['ict_index'])"
   ]
  },
  {
   "cell_type": "code",
   "execution_count": 7,
   "metadata": {},
   "outputs": [],
   "source": [
    "# actual cost of the player is now_cost/10\n",
    "slim_elements_df['actual_cost'] = slim_elements_df['now_cost']/10\n",
    "\n",
    "# creating additional metrics\n",
    "slim_elements_df['games_completed'] = slim_elements_df['minutes']/90\n",
    "slim_elements_df['points_per_90_mins'] = slim_elements_df['total_points']/slim_elements_df['games_completed']\n",
    "slim_elements_df['ga_per_90_mins'] = (slim_elements_df['goals_scored']+slim_elements_df['assists'])/slim_elements_df['games_completed']\n",
    "slim_elements_df['points_per_million'] = slim_elements_df['total_points']/slim_elements_df['actual_cost']\n",
    "\n",
    "# eligible players\n",
    "eligible_players = slim_elements_df[slim_elements_df['news'] == '']"
   ]
  },
  {
   "cell_type": "code",
   "execution_count": 8,
   "metadata": {},
   "outputs": [],
   "source": [
    "differentials = slim_elements_df.loc[(slim_elements_df['news'] == '') & (slim_elements_df['selected_by_percent'] <= 20) & (slim_elements_df['games_completed'] >= 20)]\n"
   ]
  },
  {
   "cell_type": "code",
   "execution_count": 9,
   "metadata": {},
   "outputs": [],
   "source": [
    "def knapsack_solution(players, player_costs, player_values, max_cost, count):\n",
    "    \n",
    "    \"\"\"\n",
    "    function that returns the knapsack cost matrix\n",
    "    \"\"\"\n",
    "  \n",
    "    num_players = len(players)\n",
    "  \n",
    "    cost_matrix = [[[0 for k in range(count+1)] for j in range(max_cost+1)] for i in range(num_players)]\n",
    "    \n",
    "    for i in range(num_players):\n",
    "        for j in range(max_cost+1):\n",
    "            for k in range(count+1):\n",
    "                if (player_costs[i] > j) or (1 > k):\n",
    "                    cost_matrix[i][j][k] = cost_matrix[i-1][j][k]\n",
    "                else: \n",
    "                    cost_matrix[i][j][k] = max(cost_matrix[i-1][j][k], player_values[i]+cost_matrix[i-1][j-player_costs[i]][k-1])\n",
    "\n",
    "    return cost_matrix\n",
    "    "
   ]
  },
  {
   "cell_type": "code",
   "execution_count": 10,
   "metadata": {},
   "outputs": [],
   "source": [
    "def get_used_items(players, player_costs, player_values, max_cost, count, cost_matrix):\n",
    "    \n",
    "    \"\"\"\n",
    "    function that returns the used players from the cost matrix\n",
    "    \"\"\"\n",
    "    \n",
    "    playerIndex = len(players) - 1\n",
    "    \n",
    "    currentCost = -1\n",
    "    currentCount = count\n",
    "    marked = [0 for k in range(len(players))]\n",
    "\n",
    "    bestValue = -1\n",
    "    \n",
    "    for j in range(max_cost+1):\n",
    "        value = cost_matrix[playerIndex][j][count]\n",
    "        if (bestValue == -1) or (value > bestValue):\n",
    "            currentCost = j\n",
    "            bestValue = value\n",
    "    \n",
    "    while (playerIndex >= 0 and currentCost >= 0 and currentCount >= 0):\n",
    "        if (playerIndex == 0 and cost_matrix[playerIndex][currentCost][currentCount] > 0) or (cost_matrix[playerIndex][currentCost][currentCount] != cost_matrix[playerIndex-1][currentCost][currentCount]):\n",
    "            marked[playerIndex] = 1\n",
    "            currentCost = currentCost - player_costs[playerIndex]\n",
    "            currentCount = currentCount - 1\n",
    "        playerIndex = playerIndex - 1\n",
    "\n",
    "    return marked\n",
    "      "
   ]
  },
  {
   "cell_type": "code",
   "execution_count": 11,
   "metadata": {},
   "outputs": [],
   "source": [
    "def optimum_keeping(eligible_players, maximum_cost, opt_metric):\n",
    "    \n",
    "    max_cost = maximum_cost * 10\n",
    "    \n",
    "    gk_df = eligible_players[eligible_players['position'] == 'Goalkeeper']\n",
    "    gk_df = gk_df.reset_index()\n",
    "    goalkeepers = gk_df.index.tolist()\n",
    "    goalkeeper_costs = (gk_df['now_cost']).tolist()\n",
    "    goalkeeper_values = gk_df[opt_metric].tolist()\n",
    "    \n",
    "    cost_matrix = knapsack_solution(goalkeepers, goalkeeper_costs, goalkeeper_values, max_cost, 2)\n",
    "    \n",
    "    used_players = get_used_items(goalkeepers, goalkeeper_costs, goalkeeper_values, max_cost, 2, cost_matrix)\n",
    "    \n",
    "    player_indices = []\n",
    "    \n",
    "    for i in range(len(used_players)):\n",
    "        if used_players[i] == 1:\n",
    "            player_indices.append(i)\n",
    "        \n",
    "    players = pd.DataFrame()\n",
    "    \n",
    "    for index in range(len(player_indices)):\n",
    "        players = pd.concat([players, gk_df.iloc[[player_indices[index]]]])\n",
    "        \n",
    "    final = players[['first_name', 'second_name', 'team_name', 'position', 'selected_by_percent', 'actual_cost', 'total_points', opt_metric]]\n",
    "    \n",
    "    return final.loc[:,~final.columns.duplicated()].copy()"
   ]
  },
  {
   "cell_type": "code",
   "execution_count": 12,
   "metadata": {},
   "outputs": [],
   "source": [
    "def optimum_defence(eligible_players, maximum_cost, opt_metric):\n",
    "    \n",
    "    max_cost = maximum_cost * 10\n",
    "    \n",
    "    def_df = eligible_players[eligible_players['position'] == 'Defender']\n",
    "    def_df = def_df.reset_index()\n",
    "    defenders = def_df.index.tolist()\n",
    "    defender_costs = (def_df['now_cost']).tolist()\n",
    "    defender_values = def_df[opt_metric].tolist()\n",
    "    \n",
    "    cost_matrix = knapsack_solution(defenders, defender_costs, defender_values, max_cost, 5)\n",
    "    \n",
    "    used_players = get_used_items(defenders, defender_costs, defender_values, max_cost, 5, cost_matrix)\n",
    "    \n",
    "    player_indices = []\n",
    "    \n",
    "    for i in range(len(used_players)):\n",
    "        if used_players[i] == 1:\n",
    "            player_indices.append(i)\n",
    "        \n",
    "    players = pd.DataFrame()\n",
    "    \n",
    "    for index in range(len(player_indices)):\n",
    "        players = pd.concat([players, def_df.iloc[[player_indices[index]]]])\n",
    "        \n",
    "    final = players[['first_name', 'second_name', 'team_name', 'position', 'selected_by_percent', 'actual_cost', 'total_points', opt_metric]]\n",
    "    \n",
    "    return final.loc[:,~final.columns.duplicated()].copy()"
   ]
  },
  {
   "cell_type": "code",
   "execution_count": 13,
   "metadata": {},
   "outputs": [],
   "source": [
    "def optimum_midfield(eligible_players, maximum_cost, opt_metric):\n",
    "    \n",
    "    max_cost = maximum_cost * 10\n",
    "    \n",
    "    mid_df = eligible_players[eligible_players['position'] == 'Midfielder']\n",
    "    mid_df = mid_df.reset_index()\n",
    "    midfielders = mid_df.index.tolist()\n",
    "    midfielder_costs = (mid_df['now_cost']).tolist()\n",
    "    midfielder_values = mid_df[opt_metric].tolist()\n",
    "    \n",
    "    cost_matrix = knapsack_solution(midfielders, midfielder_costs, midfielder_values, max_cost, 5)\n",
    "    \n",
    "    used_players = get_used_items(midfielders, midfielder_costs, midfielder_values, max_cost, 5, cost_matrix)\n",
    "    \n",
    "    player_indices = []\n",
    "    \n",
    "    for i in range(len(used_players)):\n",
    "        if used_players[i] == 1:\n",
    "            player_indices.append(i)\n",
    "        \n",
    "    players = pd.DataFrame()\n",
    "    \n",
    "    for index in range(len(player_indices)):\n",
    "        players = pd.concat([players, mid_df.iloc[[player_indices[index]]]])\n",
    "        \n",
    "    final = players[['first_name', 'second_name', 'team_name', 'position', 'selected_by_percent', 'actual_cost', 'total_points', opt_metric]]\n",
    "    \n",
    "    return final.loc[:,~final.columns.duplicated()].copy()"
   ]
  },
  {
   "cell_type": "code",
   "execution_count": 14,
   "metadata": {},
   "outputs": [],
   "source": [
    "def optimum_attack(eligible_players, maximum_cost, opt_metric):\n",
    "    \n",
    "    max_cost = maximum_cost * 10\n",
    "    \n",
    "    att_df = eligible_players[eligible_players['position'] == 'Forward']\n",
    "    att_df = att_df.reset_index()\n",
    "    attackers = att_df.index.tolist()\n",
    "    attacker_costs = (att_df['now_cost']).tolist()\n",
    "    attacker_values = att_df[opt_metric].tolist()\n",
    "    \n",
    "    cost_matrix = knapsack_solution(attackers, attacker_costs, attacker_values, max_cost, 3)\n",
    "    \n",
    "    used_players = get_used_items(attackers, attacker_costs, attacker_values, max_cost, 3, cost_matrix)\n",
    "    \n",
    "    player_indices = []\n",
    "    \n",
    "    for i in range(len(used_players)):\n",
    "        if used_players[i] == 1:\n",
    "            player_indices.append(i)\n",
    "        \n",
    "    players = pd.DataFrame()\n",
    "    \n",
    "    for index in range(len(player_indices)):\n",
    "        players = pd.concat([players, att_df.iloc[[player_indices[index]]]])\n",
    "        \n",
    "    final = players[['first_name', 'second_name', 'team_name', 'position', 'selected_by_percent', 'actual_cost', 'total_points', opt_metric]]\n",
    "    \n",
    "    return final.loc[:,~final.columns.duplicated()].copy()"
   ]
  },
  {
   "cell_type": "code",
   "execution_count": 15,
   "metadata": {},
   "outputs": [],
   "source": [
    "def print_all_sum_rec(target, current_sum, start, output, result):\n",
    "    if current_sum == target:\n",
    "        output.append(copy.copy(result))\n",
    "\n",
    "    for i in range(start, target):\n",
    "        temp_sum = current_sum + i\n",
    "        if temp_sum <= target:\n",
    "            result.append(i)\n",
    "            print_all_sum_rec(target, temp_sum, i, output, result)\n",
    "            result.pop()\n",
    "        else:\n",
    "            return\n",
    "\n",
    "def print_all_sum(target):\n",
    "    output = []\n",
    "    result = []\n",
    "    print_all_sum_rec(target, 0, 4, output, result)\n",
    "    return output\n"
   ]
  },
  {
   "cell_type": "code",
   "execution_count": 16,
   "metadata": {},
   "outputs": [],
   "source": [
    "def cost_breakdown(number):\n",
    "    breakdown = print_all_sum(number)\n",
    "    combinations = []\n",
    "    for i in breakdown:\n",
    "        if len(i) == 4:\n",
    "            if i[0] >= 8 and i[1] >= 25 and i[2] >= 30 and i[3] >= 20:\n",
    "                combinations.append(i)\n",
    "    return combinations"
   ]
  },
  {
   "cell_type": "code",
   "execution_count": 17,
   "metadata": {},
   "outputs": [],
   "source": [
    "def optimize(opt_metric):\n",
    "    costs_combinations = cost_breakdown(100)\n",
    "\n",
    "    comb_df = pd.DataFrame(columns = ['costs', 'total_cost', opt_metric])\n",
    "    \n",
    "    for costs in costs_combinations:\n",
    "        \n",
    "        gk = optimum_keeping(eligible_players, costs[0], opt_metric)\n",
    "        dfnc = optimum_defence(eligible_players, costs[1], opt_metric)\n",
    "        mid = optimum_midfield(eligible_players, costs[2], opt_metric)\n",
    "        att = optimum_attack(eligible_players, costs[3], opt_metric)\n",
    "        \n",
    "        final = pd.concat([gk, dfnc, mid, att])\n",
    "        total_cost = final['actual_cost'].sum()\n",
    "        optimised_metric = final[opt_metric].sum()\n",
    "        cost_details = [costs, total_cost, optimised_metric]\n",
    "        \n",
    "        comb_df.loc[len(comb_df)] = cost_details\n",
    "\n",
    "    return comb_df"
   ]
  },
  {
   "cell_type": "code",
   "execution_count": 18,
   "metadata": {},
   "outputs": [],
   "source": [
    "combs = optimize('points_per_million')\n",
    "combs['points_per_million'] = pd.to_numeric(combs['points_per_million'])\n",
    "combs.sort_values(by=['points_per_million'], ascending=False).head(20)"
   ]
  },
  {
   "cell_type": "code",
   "execution_count": null,
   "metadata": {},
   "outputs": [],
   "source": [
    "optimum_keeping(eligible_players, 10, 'points_per_million')\n",
    "optimum_defence(eligible_players, 25, 'points_per_million')\n",
    "optimum_midfield(eligible_players, 35, 'points_per_million')\n",
    "optimum_attack(eligible_players, 35, 'points_per_million')"
   ]
  },
  {
   "cell_type": "code",
   "execution_count": null,
   "metadata": {},
   "outputs": [],
   "source": []
  }
 ],
 "metadata": {
  "kernelspec": {
   "display_name": "Python 3.8.5 ('base')",
   "language": "python",
   "name": "python3"
  },
  "language_info": {
   "codemirror_mode": {
    "name": "ipython",
    "version": 3
   },
   "file_extension": ".py",
   "mimetype": "text/x-python",
   "name": "python",
   "nbconvert_exporter": "python",
   "pygments_lexer": "ipython3",
   "version": "3.8.5"
  },
  "orig_nbformat": 4,
  "vscode": {
   "interpreter": {
    "hash": "40f435dca853d358a72165d8a9258ab55dbf6149f6bf924972afc083f5d0cc43"
   }
  }
 },
 "nbformat": 4,
 "nbformat_minor": 2
}
